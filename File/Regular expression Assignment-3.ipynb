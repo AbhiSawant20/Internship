{
 "cells": [
  {
   "cell_type": "markdown",
   "id": "3b87d55a-fa95-4552-81d5-734b6ef63533",
   "metadata": {},
   "source": [
    "Question 1- Write a Python program to replace all occurrences of a space, comma, or dot with a colon.\n",
    "Sample Text- 'Python Exercises, PHP exercises.'\n",
    "Expected Output: Python:Exercises::PHP:exercises:\n"
   ]
  },
  {
   "cell_type": "code",
   "execution_count": 2,
   "id": "1fe8c280-a2d5-47ec-8a07-be5dd818700b",
   "metadata": {},
   "outputs": [
    {
     "name": "stdout",
     "output_type": "stream",
     "text": [
      "Python:Exercises::PHP:exercises:\n"
     ]
    }
   ],
   "source": [
    "# Sample text\n",
    "text = 'Python Exercises, PHP exercises.'\n",
    "\n",
    "# Replace all occurrences of space, comma, or dot with a colon\n",
    "text = text.replace(' ', ':').replace(',', ':').replace('.', ':')\n",
    "\n",
    "# Print the modified text\n",
    "print(text)"
   ]
  },
  {
   "cell_type": "markdown",
   "id": "776ae9e8-a101-4ece-abc8-72b5bc6bfabf",
   "metadata": {},
   "source": [
    "Question 2-  Create a dataframe using the dictionary below and remove everything (commas (,), !, XXXX, ;, etc.) from the columns except words.\n",
    "Dictionary- {'SUMMARY' : ['hello, world!', 'XXXXX test', '123four, five:; six...']}\n",
    "Expected output-\n",
    "0      hello world\n",
    "1             test\n",
    "2    four five six\n"
   ]
  },
  {
   "cell_type": "code",
   "execution_count": 3,
   "id": "4a5503c9-7d12-4dcd-b37f-aa9290bb7fd7",
   "metadata": {},
   "outputs": [
    {
     "name": "stdout",
     "output_type": "stream",
     "text": [
      "         SUMMARY\n",
      "0    hello world\n",
      "1     XXXXX test\n",
      "2  four five six\n"
     ]
    }
   ],
   "source": [
    "import pandas as pd\n",
    "import re\n",
    "\n",
    "# Create DataFrame from the dictionary\n",
    "data = {'SUMMARY': ['hello, world!', 'XXXXX test', '123four, five:; six...']}\n",
    "df = pd.DataFrame(data)\n",
    "\n",
    "# Define a function to clean the text\n",
    "def clean_text(text):\n",
    "    # Use regular expression to remove everything except words and spaces\n",
    "    cleaned_text = re.sub(r'[^a-zA-Z\\s]', '', text)\n",
    "    # Remove extra spaces\n",
    "    cleaned_text = ' '.join(cleaned_text.split())\n",
    "    return cleaned_text\n",
    "\n",
    "# Apply the cleaning function to the 'SUMMARY' column\n",
    "df['SUMMARY'] = df['SUMMARY'].apply(clean_text)\n",
    "\n",
    "# Print the cleaned DataFrame\n",
    "print(df)"
   ]
  },
  {
   "cell_type": "code",
   "execution_count": null,
   "id": "a62e0832-c1ae-4242-aae3-bcd6ad26a6ad",
   "metadata": {},
   "outputs": [],
   "source": []
  },
  {
   "cell_type": "markdown",
   "id": "d7f78b30-55d6-45e3-96f1-e48fe6119ff9",
   "metadata": {},
   "source": [
    "Question 3- Create a function in python to find all words that are at least 4 characters long in a string. The use of the re.compile() method is mandatory.\n",
    "\n"
   ]
  },
  {
   "cell_type": "code",
   "execution_count": 5,
   "id": "85252189-0592-4eaf-9522-4530d198e4dd",
   "metadata": {},
   "outputs": [
    {
     "name": "stdout",
     "output_type": "stream",
     "text": [
      "['This', 'example', 'sentence', 'with', 'several', 'words', 'varying', 'lengths']\n"
     ]
    }
   ],
   "source": [
    "import re\n",
    "\n",
    "def find_long_words(text):\n",
    "    # Compile a regular expression pattern for words with at least 4 characters\n",
    "    pattern = re.compile(r'\\b\\w{4,}\\b')\n",
    "    \n",
    "    # Use the pattern to find all matching words\n",
    "    words = pattern.findall(text)\n",
    "    \n",
    "    return words\n",
    "\n",
    "# Example usage\n",
    "text = \"This is an example sentence with several words of varying lengths.\"\n",
    "long_words = find_long_words(text)\n",
    "\n",
    "print(long_words)"
   ]
  },
  {
   "cell_type": "code",
   "execution_count": null,
   "id": "afc28283-cbf6-437f-a611-c8a1d2af9eda",
   "metadata": {},
   "outputs": [],
   "source": []
  },
  {
   "cell_type": "markdown",
   "id": "1c6ccd28-1383-4ffc-906e-10ed9ffe4c16",
   "metadata": {},
   "source": [
    "Question 4- Create a function in python to find all three, four, and five character words in a string. The use of the re.compile() method is mandatory."
   ]
  },
  {
   "cell_type": "code",
   "execution_count": 8,
   "id": "9d8fe099-114c-4a73-bba6-52a1d041f3a7",
   "metadata": {},
   "outputs": [
    {
     "name": "stdout",
     "output_type": "stream",
     "text": [
      "['Here', 'are', 'some', 'words', 'test', 'the', 'cat', 'dog', 'horse', 'mice', 'test', 'apple', 'book', 'and', 'more']\n"
     ]
    }
   ],
   "source": [
    "import re\n",
    "\n",
    "def find_specific_length_words(text):\n",
    "    # Compile a regular expression pattern for words with exactly 3, 4, or 5 characters\n",
    "    pattern = re.compile(r'\\b\\w{3,5}\\b')\n",
    "    \n",
    "    # Find all matching words\n",
    "    words = pattern.findall(text)\n",
    "    \n",
    "    # Filter words to include only those with exactly 3, 4, or 5 characters\n",
    "    filtered_words = [word for word in words if 3 <= len(word) <= 5]\n",
    "    \n",
    "    return filtered_words\n",
    "\n",
    "# Example usage\n",
    "text = \"Here are some example words to test the function: cat, dog, horse, mice, test, apple, book, and more.\"\n",
    "specific_length_words = find_specific_length_words(text)\n",
    "\n",
    "print(specific_length_words)"
   ]
  },
  {
   "cell_type": "code",
   "execution_count": null,
   "id": "3348a143-e83e-42eb-9197-de514b5301f4",
   "metadata": {},
   "outputs": [],
   "source": []
  },
  {
   "cell_type": "markdown",
   "id": "860e9698-1408-40f4-940a-653b1bde6148",
   "metadata": {},
   "source": [
    "Question 5- Create a function in Python to remove the parenthesis in a list of strings. The use of the re.compile() method is mandatory.\n",
    "Sample Text: [\"example (.com)\", \"hr@fliprobo (.com)\", \"github (.com)\", \"Hello (Data Science World)\", \"Data (Scientist)\"]\n",
    "Expected Output:\n",
    "example.com\n",
    "hr@fliprobo.com\n",
    "github.com\n",
    "Hello Data Science World\n",
    "Data Scientist\n"
   ]
  },
  {
   "cell_type": "code",
   "execution_count": 1,
   "id": "256e5dfa-9e40-44db-9659-aee8de5ded8f",
   "metadata": {},
   "outputs": [
    {
     "name": "stdout",
     "output_type": "stream",
     "text": [
      "example\n",
      "hr@fliprobo\n",
      "github\n",
      "Hello\n",
      "Data\n"
     ]
    }
   ],
   "source": [
    "import re\n",
    "\n",
    "def remove_parentheses(strings):\n",
    "    # Compile the regex pattern to match parentheses and their contents\n",
    "    pattern = re.compile(r'\\s*\\(.*?\\)')\n",
    "    \n",
    "    # Process each string in the list\n",
    "    cleaned_strings = [pattern.sub('', s).strip() for s in strings]\n",
    "    \n",
    "    return cleaned_strings\n",
    "\n",
    "# Sample usage\n",
    "sample_text = [\n",
    "    \"example (.com)\",\n",
    "    \"hr@fliprobo (.com)\",\n",
    "    \"github (.com)\",\n",
    "    \"Hello (Data Science World)\",\n",
    "    \"Data (Scientist)\"\n",
    "]\n",
    "\n",
    "# Call the function and print the result\n",
    "cleaned_text = remove_parentheses(sample_text)\n",
    "for text in cleaned_text:\n",
    "    print(text)"
   ]
  },
  {
   "cell_type": "code",
   "execution_count": null,
   "id": "c41a115e-0f80-45a5-95b1-2fb760841041",
   "metadata": {},
   "outputs": [],
   "source": []
  },
  {
   "cell_type": "markdown",
   "id": "c08cb286-7b29-4f25-a396-1bef12af64b4",
   "metadata": {},
   "source": [
    "Question 6- Write a python program to remove the parenthesis area from the text stored in the text file using Regular Expression.\n",
    "Sample Text: [\"example (.com)\", \"hr@fliprobo (.com)\", \"github (.com)\", \"Hello (Data Science World)\", \"Data (Scientist)\"]\n",
    "Expected Output: [\"example\", \"hr@fliprobo\", \"github\", \"Hello\", \"Data\"]\n",
    "Note- Store given sample text in the text file and then to remove the parenthesis area from the text.\n"
   ]
  },
  {
   "cell_type": "code",
   "execution_count": 2,
   "id": "1da1add8-a028-4b0f-9f10-3ccc9a8de976",
   "metadata": {},
   "outputs": [
    {
     "name": "stdout",
     "output_type": "stream",
     "text": [
      "example\n",
      "hr@fliprobo\n",
      "github\n",
      "Hello\n",
      "Data\n"
     ]
    }
   ],
   "source": [
    "import re\n",
    "\n",
    "# Step 1: Create a text file with the sample text\n",
    "file_name = 'sample_text.txt'\n",
    "\n",
    "sample_text = [\n",
    "    \"example (.com)\",\n",
    "    \"hr@fliprobo (.com)\",\n",
    "    \"github (.com)\",\n",
    "    \"Hello (Data Science World)\",\n",
    "    \"Data (Scientist)\"\n",
    "]\n",
    "\n",
    "# Write the sample text to the file\n",
    "with open(file_name, 'w') as file:\n",
    "    for line in sample_text:\n",
    "        file.write(line + '\\n')\n",
    "\n",
    "# Step 2: Read the text file\n",
    "with open(file_name, 'r') as file:\n",
    "    lines = file.readlines()\n",
    "\n",
    "# Compile the regex pattern to match parentheses and their contents\n",
    "pattern = re.compile(r'\\s*\\(.*?\\)')\n",
    "\n",
    "# Step 3: Process each line to remove parentheses and their contents\n",
    "cleaned_lines = [pattern.sub('', line).strip() for line in lines]\n",
    "\n",
    "# Step 4: Write the cleaned lines to a new file or print them\n",
    "output_file_name = 'cleaned_text.txt'\n",
    "with open(output_file_name, 'w') as file:\n",
    "    for line in cleaned_lines:\n",
    "        file.write(line + '\\n')\n",
    "\n",
    "# Optionally, print the result\n",
    "for line in cleaned_lines:\n",
    "    print(line)"
   ]
  },
  {
   "cell_type": "code",
   "execution_count": null,
   "id": "6cd1bddb-659d-4d58-9320-e29f3e1c5a91",
   "metadata": {},
   "outputs": [],
   "source": []
  },
  {
   "cell_type": "markdown",
   "id": "a07d5952-6044-4cf8-822e-b4c3a6c86834",
   "metadata": {},
   "source": [
    "Question 7- Write a regular expression in Python to split a string into uppercase letters.\n",
    "Sample text: “ImportanceOfRegularExpressionsInPython”\n",
    "Expected Output: [‘Importance’, ‘Of’, ‘Regular’, ‘Expression’, ‘In’, ‘Python’]\n"
   ]
  },
  {
   "cell_type": "code",
   "execution_count": null,
   "id": "1bae8e13-b2b5-4041-948e-e398ee7d0871",
   "metadata": {},
   "outputs": [],
   "source": []
  },
  {
   "cell_type": "code",
   "execution_count": 3,
   "id": "3182244a-a668-4c01-9913-ee832b500df8",
   "metadata": {
    "scrolled": true
   },
   "outputs": [
    {
     "name": "stdout",
     "output_type": "stream",
     "text": [
      "['Importance', 'Of', 'Regular', 'Expressions', 'In', 'Python']\n"
     ]
    }
   ],
   "source": [
    "import re\n",
    "\n",
    "def split_by_uppercase(text):\n",
    "    # Compile the regex pattern to match uppercase segments\n",
    "    pattern = re.compile(r'[A-Z][a-z]*')\n",
    "    \n",
    "    # Find all segments that match the pattern\n",
    "    result = pattern.findall(text)\n",
    "    \n",
    "    return result\n",
    "\n",
    "# Sample text\n",
    "sample_text = \"ImportanceOfRegularExpressionsInPython\"\n",
    "\n",
    "# Call the function and print the result\n",
    "output = split_by_uppercase(sample_text)\n",
    "print(output)"
   ]
  },
  {
   "cell_type": "code",
   "execution_count": null,
   "id": "710cd481-ea24-4443-b736-064bd8d8ffb6",
   "metadata": {},
   "outputs": [],
   "source": []
  },
  {
   "cell_type": "markdown",
   "id": "66875df2-2e90-46c4-b72d-23599424b67e",
   "metadata": {},
   "source": [
    "Question 8- Create a function in python to insert spaces between words starting with numbers.\n",
    "Sample Text: “RegularExpression1IsAn2ImportantTopic3InPython\"\n",
    "Expected Output: RegularExpression 1IsAn 2ImportantTopic 3InPython\n",
    "\n"
   ]
  },
  {
   "cell_type": "code",
   "execution_count": 12,
   "id": "845a4f81-2509-444e-ae2f-eb0c157492eb",
   "metadata": {},
   "outputs": [
    {
     "name": "stdout",
     "output_type": "stream",
     "text": [
      "RegularExpression1 IsAn2 ImportantTopic3 InPython\n"
     ]
    }
   ],
   "source": [
    "import re\n",
    "\n",
    "def insert_spaces(text):\n",
    "    # Define the regex pattern to find digits followed by uppercase letters\n",
    "    pattern = re.compile(r'(\\d)([A-Z])')\n",
    "    \n",
    "    # Use the pattern to replace matches with the digit followed by a space and then the uppercase letter\n",
    "    result = pattern.sub(r'\\1 \\2', text)\n",
    "    \n",
    "    return result\n",
    "\n",
    "# Sample text\n",
    "sample_text = \"RegularExpression1IsAn2ImportantTopic3InPython\"\n",
    "\n",
    "# Call the function and print the result\n",
    "output = insert_spaces(sample_text)\n",
    "print(output)"
   ]
  },
  {
   "cell_type": "code",
   "execution_count": null,
   "id": "44b0765d-d159-45e4-acc1-55be16071d66",
   "metadata": {},
   "outputs": [],
   "source": []
  },
  {
   "cell_type": "markdown",
   "id": "bf42f8db-ead3-4118-a796-bedf3919b45f",
   "metadata": {},
   "source": [
    "Question 9- Create a function in python to insert spaces between words starting with capital letters or with numbers.\n",
    "Sample Text: “RegularExpression1IsAn2ImportantTopic3InPython\"\n",
    "Expected Output:  RegularExpression 1 IsAn 2 ImportantTopic 3 InPython\n"
   ]
  },
  {
   "cell_type": "markdown",
   "id": "6b6480a8-387b-4a68-82d3-4f25a99abb65",
   "metadata": {},
   "source": [
    "import re\n",
    "\n",
    "def insert_spaces(text):\n",
    "    # Define the regex pattern to find a capital letter or digit followed by another capital letter or digit\n",
    "    pattern = re.compile(r'(?<=[a-zA-Z0-9])(?=[A-Z0-9])')\n",
    "    \n",
    "    # Substitute matches with a space\n",
    "    result = pattern.sub(' ', text)\n",
    "    \n",
    "    return result\n",
    "\n",
    "# Sample text\n",
    "sample_text = \"RegularExpression1IsAn2ImportantTopic3InPython\"\n",
    "\n",
    "# Call the function and print the result\n",
    "output = insert_spaces(sample_text)\n",
    "print(output)"
   ]
  },
  {
   "cell_type": "code",
   "execution_count": null,
   "id": "2911fe7a-c578-4158-9214-eeedd2f8d7fa",
   "metadata": {},
   "outputs": [],
   "source": []
  },
  {
   "cell_type": "markdown",
   "id": "5b99d9ca-eba1-462a-b400-104013250ae3",
   "metadata": {},
   "source": [
    "Question 10- Use the github link below to read the data and create a dataframe. After creating the dataframe extract the first 6 letters of each country and store in the dataframe under a new column called first_five_letters.\n",
    "Github Link-  https://raw.githubusercontent.com/dsrscientist/DSData/master/happiness_score_dataset.csv\n"
   ]
  },
  {
   "cell_type": "code",
   "execution_count": 18,
   "id": "aaba68df-b43c-4c8f-8f47-bd88f4156928",
   "metadata": {},
   "outputs": [
    {
     "name": "stdout",
     "output_type": "stream",
     "text": [
      "Initial DataFrame:\n",
      "       Country          Region  Happiness Rank  Happiness Score  \\\n",
      "0  Switzerland  Western Europe               1            7.587   \n",
      "1      Iceland  Western Europe               2            7.561   \n",
      "2      Denmark  Western Europe               3            7.527   \n",
      "3       Norway  Western Europe               4            7.522   \n",
      "4       Canada   North America               5            7.427   \n",
      "\n",
      "   Standard Error  Economy (GDP per Capita)   Family  \\\n",
      "0         0.03411                   1.39651  1.34951   \n",
      "1         0.04884                   1.30232  1.40223   \n",
      "2         0.03328                   1.32548  1.36058   \n",
      "3         0.03880                   1.45900  1.33095   \n",
      "4         0.03553                   1.32629  1.32261   \n",
      "\n",
      "   Health (Life Expectancy)  Freedom  Trust (Government Corruption)  \\\n",
      "0                   0.94143  0.66557                        0.41978   \n",
      "1                   0.94784  0.62877                        0.14145   \n",
      "2                   0.87464  0.64938                        0.48357   \n",
      "3                   0.88521  0.66973                        0.36503   \n",
      "4                   0.90563  0.63297                        0.32957   \n",
      "\n",
      "   Generosity  Dystopia Residual  \n",
      "0     0.29678            2.51738  \n",
      "1     0.43630            2.70201  \n",
      "2     0.34139            2.49204  \n",
      "3     0.34699            2.46531  \n",
      "4     0.45811            2.45176  \n",
      "\n",
      "Updated DataFrame with 'first_five_letters' column:\n",
      "       Country          Region  Happiness Rank  Happiness Score  \\\n",
      "0  Switzerland  Western Europe               1            7.587   \n",
      "1      Iceland  Western Europe               2            7.561   \n",
      "2      Denmark  Western Europe               3            7.527   \n",
      "3       Norway  Western Europe               4            7.522   \n",
      "4       Canada   North America               5            7.427   \n",
      "\n",
      "   Standard Error  Economy (GDP per Capita)   Family  \\\n",
      "0         0.03411                   1.39651  1.34951   \n",
      "1         0.04884                   1.30232  1.40223   \n",
      "2         0.03328                   1.32548  1.36058   \n",
      "3         0.03880                   1.45900  1.33095   \n",
      "4         0.03553                   1.32629  1.32261   \n",
      "\n",
      "   Health (Life Expectancy)  Freedom  Trust (Government Corruption)  \\\n",
      "0                   0.94143  0.66557                        0.41978   \n",
      "1                   0.94784  0.62877                        0.14145   \n",
      "2                   0.87464  0.64938                        0.48357   \n",
      "3                   0.88521  0.66973                        0.36503   \n",
      "4                   0.90563  0.63297                        0.32957   \n",
      "\n",
      "   Generosity  Dystopia Residual first_five_letters  \n",
      "0     0.29678            2.51738             Switze  \n",
      "1     0.43630            2.70201             Icelan  \n",
      "2     0.34139            2.49204             Denmar  \n",
      "3     0.34699            2.46531             Norway  \n",
      "4     0.45811            2.45176             Canada  \n"
     ]
    }
   ],
   "source": [
    "import pandas as pd\n",
    "\n",
    "# URL of the dataset\n",
    "url = 'https://raw.githubusercontent.com/dsrscientist/DSData/master/happiness_score_dataset.csv'\n",
    "\n",
    "# Read the CSV data from the URL into a DataFrame\n",
    "df = pd.read_csv(url)\n",
    "\n",
    "# Display the first few rows of the DataFrame to understand its structure\n",
    "print(\"Initial DataFrame:\")\n",
    "print(df.head())\n",
    "\n",
    "# Check if 'Country' column exists in the DataFrame\n",
    "if 'Country' in df.columns:\n",
    "    # Extract the first 6 letters of each country and create a new column 'first_six_letters'\n",
    "    df['first_five_letters'] = df['Country'].apply(lambda x: x[:6])\n",
    "    \n",
    "    # Display the updated DataFrame\n",
    "    print(\"\\nUpdated DataFrame with 'first_five_letters' column:\")\n",
    "    print(df.head())\n",
    "else:\n",
    "    print(\"The 'Country' column is not present in the DataFrame.\")\n"
   ]
  },
  {
   "cell_type": "code",
   "execution_count": null,
   "id": "a24d1d40-5c31-480b-bc02-5f2d90ba69a2",
   "metadata": {},
   "outputs": [],
   "source": []
  },
  {
   "cell_type": "markdown",
   "id": "26877002-314b-4622-910e-9c8531dfaab1",
   "metadata": {},
   "source": [
    "Question 11- Write a Python program to match a string that contains only upper and lowercase letters, numbers, and underscores."
   ]
  },
  {
   "cell_type": "code",
   "execution_count": 13,
   "id": "75b93b3b-88a6-4d70-89ff-526cbd9543ae",
   "metadata": {},
   "outputs": [
    {
     "name": "stdout",
     "output_type": "stream",
     "text": [
      "'Valid_String_123' is valid: True\n",
      "'Invalid String!' is valid: False\n",
      "'Another_Valid123' is valid: True\n",
      "'12345' is valid: True\n",
      "'invalid-chars' is valid: False\n",
      "'ValidStringWithNoNumbersOrUnderscores' is valid: True\n"
     ]
    }
   ],
   "source": [
    "import re\n",
    "\n",
    "def is_valid_string(text):\n",
    "    # Define the regex pattern to match only uppercase, lowercase letters, numbers, and underscores\n",
    "    pattern = re.compile(r'^[a-zA-Z0-9_]+$')\n",
    "    \n",
    "    # Use the pattern to match the entire string\n",
    "    return bool(pattern.match(text))\n",
    "\n",
    "# Test cases\n",
    "test_strings = [\n",
    "    \"Valid_String_123\",  # Valid\n",
    "    \"Invalid String!\",   # Invalid (contains spaces and special characters)\n",
    "    \"Another_Valid123\",  # Valid\n",
    "    \"12345\",             # Valid\n",
    "    \"invalid-chars\",     # Invalid (contains hyphens)\n",
    "    \"ValidStringWithNoNumbersOrUnderscores\"  # Valid\n",
    "]\n",
    "\n",
    "# Check and print results for test cases\n",
    "for test in test_strings:\n",
    "    result = is_valid_string(test)\n",
    "    print(f\"'{test}' is valid: {result}\")"
   ]
  },
  {
   "cell_type": "code",
   "execution_count": null,
   "id": "694e111e-3e0a-4916-ba5a-a023eb0d1da2",
   "metadata": {},
   "outputs": [],
   "source": []
  },
  {
   "cell_type": "markdown",
   "id": "ef664ef0-08df-4694-8794-36a323314353",
   "metadata": {},
   "source": [
    "Question 12- Write a Python program where a string will start with a specific number. "
   ]
  },
  {
   "cell_type": "code",
   "execution_count": 14,
   "id": "5c85936e-4962-4155-9134-8762b12e6433",
   "metadata": {},
   "outputs": [
    {
     "name": "stdout",
     "output_type": "stream",
     "text": [
      "'123HelloWorld' starts with 123: True\n",
      "'456AnotherTest' starts with 123: False\n",
      "'789Test' starts with 123: False\n",
      "'Test123' starts with 123: False\n",
      "'001StartWithZero' starts with 123: False\n"
     ]
    }
   ],
   "source": [
    "def starts_with_number(text, number):\n",
    "    # Convert the number to a string and check if the text starts with this number\n",
    "    return text.startswith(str(number))\n",
    "\n",
    "# Test cases\n",
    "test_strings = [\n",
    "    \"123HelloWorld\",\n",
    "    \"456AnotherTest\",\n",
    "    \"789Test\",\n",
    "    \"Test123\",\n",
    "    \"001StartWithZero\"\n",
    "]\n",
    "\n",
    "# Specific number to check\n",
    "number_to_check = 123\n",
    "\n",
    "# Check and print results for test cases\n",
    "for test in test_strings:\n",
    "    result = starts_with_number(test, number_to_check)\n",
    "    print(f\"'{test}' starts with {number_to_check}: {result}\")\n"
   ]
  },
  {
   "cell_type": "code",
   "execution_count": null,
   "id": "17194c47-f915-4545-9398-4d6279bc051f",
   "metadata": {},
   "outputs": [],
   "source": []
  },
  {
   "cell_type": "markdown",
   "id": "189ccc95-5da0-4dad-9924-8d2ed2e74a57",
   "metadata": {},
   "source": [
    "Question 13- Write a Python program to remove leading zeros from an IP address"
   ]
  },
  {
   "cell_type": "code",
   "execution_count": 15,
   "id": "e1548b73-498c-4629-ac28-d677cb36684d",
   "metadata": {},
   "outputs": [
    {
     "name": "stdout",
     "output_type": "stream",
     "text": [
      "Original IP: 192.168.001.001 -> Cleaned IP: 192.168.1.1\n",
      "Original IP: 10.000.0.1 -> Cleaned IP: 10.0.0.1\n",
      "Original IP: 172.016.254.001 -> Cleaned IP: 172.16.254.1\n",
      "Original IP: 255.255.255.255 -> Cleaned IP: 255.255.255.255\n",
      "Original IP: 000.000.000.000 -> Cleaned IP: 0.0.0.0\n"
     ]
    }
   ],
   "source": [
    "def remove_leading_zeros(ip):\n",
    "    # Split the IP address into octets\n",
    "    octets = ip.split('.')\n",
    "    \n",
    "    # Remove leading zeros from each octet\n",
    "    cleaned_octets = [str(int(octet)) for octet in octets]\n",
    "    \n",
    "    # Join the octets back into a string\n",
    "    return '.'.join(cleaned_octets)\n",
    "\n",
    "# Test cases\n",
    "ip_addresses = [\n",
    "    \"192.168.001.001\",\n",
    "    \"10.000.0.1\",\n",
    "    \"172.016.254.001\",\n",
    "    \"255.255.255.255\",\n",
    "    \"000.000.000.000\"\n",
    "]\n",
    "\n",
    "# Process and print results for each IP address\n",
    "for ip in ip_addresses:\n",
    "    result = remove_leading_zeros(ip)\n",
    "    print(f\"Original IP: {ip} -> Cleaned IP: {result}\")\n"
   ]
  },
  {
   "cell_type": "code",
   "execution_count": null,
   "id": "3316c4e5-f7c6-4be7-8e15-b7ba6879b0ce",
   "metadata": {},
   "outputs": [],
   "source": []
  },
  {
   "cell_type": "markdown",
   "id": "c9bc2ec1-c40f-43f2-95e1-4b2473ee96a9",
   "metadata": {},
   "source": [
    "Question 14- Write a regular expression in python to match a date string in the form of Month name followed by day number and year stored in a text file.\n",
    "Sample text :  ' On August 15th 1947 that India was declared independent from British colonialism, and the reins of control were handed over to the leaders of the Country’.\n",
    "Expected Output- August 15th 1947\n",
    "Note- Store given sample text in the text file and then extract the date string asked format.\n"
   ]
  },
  {
   "cell_type": "markdown",
   "id": "b9d7ddc0-69d9-4dc1-99f3-ad35db21fcc3",
   "metadata": {},
   "source": [
    "# Writing the sample text to a file\n",
    "sample_text = 'On August 15th 1947 that India was declared independent from British colonialism, and the reins of control were handed over to the leaders of the Country.'\n",
    "\n",
    "with open('sample_text.txt', 'w') as file:\n",
    "    file.write(sample_text)\n",
    "\n",
    "import re\n",
    "\n",
    "def extract_date_from_file(filename):\n",
    "    # Define the regex pattern to match the date format\n",
    "    pattern = r'\\b[A-Za-z]+ \\d{1,2}(?:st|nd|rd|th)? \\d{4}\\b'\n",
    "    \n",
    "    # Read the text from the file\n",
    "    with open(filename, 'r') as file:\n",
    "        text = file.read()\n",
    "    \n",
    "    # Find the date using the regex pattern\n",
    "    match = re.search(pattern, text)\n",
    "    \n",
    "    # Return the matched date string, if found\n",
    "    return match.group(0) if match else None\n",
    "\n",
    "# Filename of the text file\n",
    "filename = 'sample_text.txt'\n",
    "\n",
    "# Extract the date from the file\n",
    "date = extract_date_from_file(filename)\n",
    "print(date)  \n"
   ]
  },
  {
   "cell_type": "code",
   "execution_count": null,
   "id": "50cf4ea3-52a6-446d-b8d5-cd0b1cfe9436",
   "metadata": {},
   "outputs": [],
   "source": []
  },
  {
   "cell_type": "markdown",
   "id": "a73b93fd-acbc-4c4f-bc8f-074b7c7d0f32",
   "metadata": {},
   "source": [
    "Question 15- Write a Python program to search some literals strings in a string. \n",
    "Sample text : 'The quick brown fox jumps over the lazy dog.'\n",
    "Searched words : 'fox', 'dog', 'horse'\n"
   ]
  },
  {
   "cell_type": "code",
   "execution_count": 20,
   "id": "dc1aed17-5800-4442-94a8-638e6594be1c",
   "metadata": {},
   "outputs": [
    {
     "name": "stdout",
     "output_type": "stream",
     "text": [
      "'fox' found in the text.\n",
      "'dog' found in the text.\n",
      "'horse' not found in the text.\n"
     ]
    }
   ],
   "source": [
    "def search_literals(text, search_terms):\n",
    "    # Create a dictionary to store search results\n",
    "    results = {term: (term in text) for term in search_terms}\n",
    "    \n",
    "    # Return the results\n",
    "    return results\n",
    "\n",
    "# Sample text\n",
    "sample_text = 'The quick brown fox jumps over the lazy dog.'\n",
    "\n",
    "# Words to search for\n",
    "searched_words = ['fox', 'dog', 'horse']\n",
    "\n",
    "# Call the function and get the search results\n",
    "results = search_literals(sample_text, searched_words)\n",
    "\n",
    "# Print the results\n",
    "for word, found in results.items():\n",
    "    if found:\n",
    "        print(f\"'{word}' found in the text.\")\n",
    "    else:\n",
    "        print(f\"'{word}' not found in the text.\")"
   ]
  },
  {
   "cell_type": "code",
   "execution_count": null,
   "id": "c5941108-47dd-4900-9457-fb351773b320",
   "metadata": {},
   "outputs": [],
   "source": []
  },
  {
   "cell_type": "markdown",
   "id": "d1e018c0-f0d9-44e6-a677-b9461e750477",
   "metadata": {},
   "source": [
    "Question 16- Write a Python program to search a literals string in a string and also find the location within the original string where the pattern occurs\n",
    "Sample text : 'The quick brown fox jumps over the lazy dog.'\n",
    "Searched words : 'fox'\n"
   ]
  },
  {
   "cell_type": "code",
   "execution_count": 21,
   "id": "90204f2f-caee-49be-be12-d4d2c14e4f40",
   "metadata": {},
   "outputs": [
    {
     "name": "stdout",
     "output_type": "stream",
     "text": [
      "'fox' found at index 16.\n"
     ]
    }
   ],
   "source": [
    "import re\n",
    "\n",
    "def search_literal_location_regex(text, search_term):\n",
    "    # Define the regex pattern to find the search_term\n",
    "    pattern = re.compile(re.escape(search_term))\n",
    "    \n",
    "    # Find all matches and their positions\n",
    "    matches = list(pattern.finditer(text))\n",
    "    \n",
    "    # Create a result list with the positions of all matches\n",
    "    results = [f\"'{search_term}' found at index {match.start()}.\" for match in matches]\n",
    "    \n",
    "    # If no matches found, return a not found message\n",
    "    if not results:\n",
    "        return f\"'{search_term}' not found in the text.\"\n",
    "    return \"\\n\".join(results)\n",
    "\n",
    "# Sample text\n",
    "sample_text = 'The quick brown fox jumps over the lazy dog.'\n",
    "\n",
    "# Word to search for\n",
    "searched_word = 'fox'\n",
    "\n",
    "# Call the function and get the search result\n",
    "result = search_literal_location_regex(sample_text, searched_word)\n",
    "\n",
    "# Print the result\n",
    "print(result)\n"
   ]
  },
  {
   "cell_type": "code",
   "execution_count": null,
   "id": "2d9b2c91-c917-45fa-9da6-c982e22e4efd",
   "metadata": {},
   "outputs": [],
   "source": []
  },
  {
   "cell_type": "markdown",
   "id": "115ea657-dc8a-40cb-8d86-6a9f297b90f7",
   "metadata": {},
   "source": [
    "\n",
    "Question 17- Write a Python program to find the substrings within a string.\n",
    "Sample text : 'Python exercises, PHP exercises, C# exercises'\n",
    "Pattern : 'exercises'.\n"
   ]
  },
  {
   "cell_type": "code",
   "execution_count": 22,
   "id": "2ac86f64-4c4b-4e95-8c90-f48bba729955",
   "metadata": {},
   "outputs": [
    {
     "name": "stdout",
     "output_type": "stream",
     "text": [
      "'exercises' found at index 7.\n",
      "'exercises' found at index 22.\n",
      "'exercises' found at index 36.\n"
     ]
    }
   ],
   "source": [
    "import re\n",
    "\n",
    "def find_substrings(text, pattern):\n",
    "    # Define the regex pattern\n",
    "    regex_pattern = re.escape(pattern)\n",
    "    \n",
    "    # Find all matches and their positions\n",
    "    matches = list(re.finditer(regex_pattern, text))\n",
    "    \n",
    "    # Create a result list with the positions of all matches\n",
    "    results = [f\"'{pattern}' found at index {match.start()}.\" for match in matches]\n",
    "    \n",
    "    # If no matches found, return a not found message\n",
    "    if not results:\n",
    "        return f\"'{pattern}' not found in the text.\"\n",
    "    return \"\\n\".join(results)\n",
    "\n",
    "# Sample text\n",
    "sample_text = 'Python exercises, PHP exercises, C# exercises'\n",
    "\n",
    "# Pattern to search for\n",
    "pattern = 'exercises'\n",
    "\n",
    "# Call the function and get the search result\n",
    "result = find_substrings(sample_text, pattern)\n",
    "\n",
    "# Print the result\n",
    "print(result)"
   ]
  },
  {
   "cell_type": "code",
   "execution_count": null,
   "id": "05117e04-06fb-4655-b3c2-0f3f41d047fa",
   "metadata": {},
   "outputs": [],
   "source": []
  },
  {
   "cell_type": "markdown",
   "id": "2bef4d36-4ba4-489a-94f4-efea89a45c8d",
   "metadata": {},
   "source": [
    "Question 18- Write a Python program to find the occurrence and position of the substrings within a string."
   ]
  },
  {
   "cell_type": "code",
   "execution_count": 25,
   "id": "48bf06fd-d02c-46ec-8118-2d0c7767030b",
   "metadata": {},
   "outputs": [
    {
     "name": "stdout",
     "output_type": "stream",
     "text": [
      "'exercises' found at index 7.\n",
      "'exercises' found at index 22.\n",
      "'exercises' found at index 36.\n"
     ]
    }
   ],
   "source": [
    "import re\n",
    "\n",
    "def find_occurrences_positions_regex(text, pattern):\n",
    "    # Escape the pattern to handle special characters safely\n",
    "    escaped_pattern = re.escape(pattern)\n",
    "    \n",
    "    # Find all matches and their positions\n",
    "    matches = list(re.finditer(escaped_pattern, text))\n",
    "    \n",
    "    # Create a result list with the positions of all matches\n",
    "    results = [f\"'{pattern}' found at index {match.start()}.\" for match in matches]\n",
    "    \n",
    "    # If no matches found, return a not found message\n",
    "    if not results:\n",
    "        return f\"'{pattern}' not found in the text.\"\n",
    "    return \"\\n\".join(results)\n",
    "\n",
    "# Sample text\n",
    "sample_text = 'Python exercises, PHP exercises, C# exercises'\n",
    "\n",
    "# Pattern to search for\n",
    "pattern = 'exercises'\n",
    "\n",
    "# Call the function and get the search result\n",
    "result = find_occurrences_positions_regex(sample_text, pattern)\n",
    "\n",
    "# Print the result\n",
    "print(result)\n"
   ]
  },
  {
   "cell_type": "code",
   "execution_count": null,
   "id": "986cf76b-fc95-454e-8a89-d762c465d8f0",
   "metadata": {},
   "outputs": [],
   "source": []
  },
  {
   "cell_type": "markdown",
   "id": "aa01591c-67bb-490a-b10e-d9f350ed3b22",
   "metadata": {},
   "source": [
    "Question 19- Write a Python program to convert a date of yyyy-mm-dd format to dd-mm-yyyy format.\n",
    "\n"
   ]
  },
  {
   "cell_type": "code",
   "execution_count": 26,
   "id": "bdf77882-543b-4dcf-9195-297e41507117",
   "metadata": {},
   "outputs": [
    {
     "name": "stdout",
     "output_type": "stream",
     "text": [
      "23-08-2024\n"
     ]
    }
   ],
   "source": [
    "def convert_date_format(date_str):\n",
    "    # Split the date string by the hyphen\n",
    "    year, month, day = date_str.split('-')\n",
    "    \n",
    "    # Rearrange the components and format the new date string\n",
    "    return f\"{day}-{month}-{year}\"\n",
    "\n",
    "# Test the function\n",
    "date_input = '2024-08-23'\n",
    "converted_date = convert_date_format(date_input)\n",
    "print(converted_date)"
   ]
  },
  {
   "cell_type": "code",
   "execution_count": null,
   "id": "496757eb-c240-4855-b346-17453865ac79",
   "metadata": {},
   "outputs": [],
   "source": []
  },
  {
   "cell_type": "markdown",
   "id": "eb1a27f1-8775-4d07-a156-16e7958d2c29",
   "metadata": {},
   "source": [
    "Question 20- Create a function in python to find all decimal numbers with a precision of 1 or 2 in a string. The use of the re.compile() method is mandatory.\n",
    "Sample Text: \"01.12 0132.123 2.31875 145.8 3.01 27.25 0.25\"\n",
    "Expected Output: ['01.12', '145.8', '3.01', '27.25', '0.25']\n"
   ]
  },
  {
   "cell_type": "code",
   "execution_count": 27,
   "id": "620fc1b8-5d04-47ed-b910-967b3b47ebd8",
   "metadata": {},
   "outputs": [
    {
     "name": "stdout",
     "output_type": "stream",
     "text": [
      "['01.12', '145.8', '3.01', '27.25', '0.25']\n"
     ]
    }
   ],
   "source": [
    "import re\n",
    "\n",
    "def find_decimal_numbers(text):\n",
    "    # Compile a regex pattern to match decimal numbers with 1 or 2 digits after the decimal point\n",
    "    pattern = re.compile(r'\\b\\d*\\.\\d{1,2}\\b')\n",
    "    \n",
    "    # Find all matches using the compiled pattern\n",
    "    matches = pattern.findall(text)\n",
    "    \n",
    "    return matches\n",
    "\n",
    "# Sample text\n",
    "sample_text = \"01.12 0132.123 2.31875 145.8 3.01 27.25 0.25\"\n",
    "\n",
    "# Call the function and get the result\n",
    "result = find_decimal_numbers(sample_text)\n",
    "\n",
    "# Print the result\n",
    "print(result)\n"
   ]
  },
  {
   "cell_type": "code",
   "execution_count": null,
   "id": "113607fc-546a-49ee-a29e-6bb5fbefdc21",
   "metadata": {},
   "outputs": [],
   "source": []
  },
  {
   "cell_type": "markdown",
   "id": "1be7b39f-9ef6-4860-b95f-89f45bba835e",
   "metadata": {},
   "source": [
    "Question 21- Write a Python program to separate and print the numbers and their position of a given string."
   ]
  },
  {
   "cell_type": "code",
   "execution_count": 28,
   "id": "77415357-3f77-4d64-9813-16ed4224f311",
   "metadata": {},
   "outputs": [
    {
     "name": "stdout",
     "output_type": "stream",
     "text": [
      "Number: 42, Position: 23\n",
      "Number: 3.14, Position: 27\n",
      "Number: 100.5, Position: 37\n"
     ]
    }
   ],
   "source": [
    "import re\n",
    "\n",
    "def find_numbers_and_positions(text):\n",
    "    # Compile a regex pattern to match numbers (including decimals)\n",
    "    pattern = re.compile(r'\\b\\d+(\\.\\d+)?\\b')\n",
    "    \n",
    "    # Find all matches using the compiled pattern\n",
    "    matches = pattern.finditer(text)\n",
    "    \n",
    "    # Print numbers and their positions\n",
    "    for match in matches:\n",
    "        number = match.group()\n",
    "        position = match.start()\n",
    "        print(f\"Number: {number}, Position: {position}\")\n",
    "\n",
    "# Sample text\n",
    "sample_text = \"Here are some numbers: 42, 3.14, and 100.5 in this string.\"\n",
    "\n",
    "# Call the function with the sample text\n",
    "find_numbers_and_positions(sample_text)\n"
   ]
  },
  {
   "cell_type": "code",
   "execution_count": null,
   "id": "ba143584-3eb1-483e-acb4-789f4ab4e92c",
   "metadata": {},
   "outputs": [],
   "source": []
  },
  {
   "cell_type": "markdown",
   "id": "b3eaf39d-57ae-4692-876e-821d06985ea5",
   "metadata": {},
   "source": [
    "\n",
    "Question 22- Write a regular expression in python program to extract maximum/largest numeric value from a string.\n",
    "Sample Text:  'My marks in each semester are: 947, 896, 926, 524, 734, 950, 642'\n",
    "Expected Output: 950\n"
   ]
  },
  {
   "cell_type": "code",
   "execution_count": 14,
   "id": "0e54f916-fb1e-489e-9230-470c0340bbef",
   "metadata": {},
   "outputs": [
    {
     "name": "stdout",
     "output_type": "stream",
     "text": [
      "950\n"
     ]
    }
   ],
   "source": [
    "import re\n",
    "\n",
    "def extract_max_numeric_value(text):\n",
    "    # Define the regex pattern to match numeric values\n",
    "    pattern = r'\\d+'\n",
    "    \n",
    "    # Find all numeric values in the text\n",
    "    matches = re.findall(pattern, text)\n",
    "    \n",
    "    # Convert the matches to integers\n",
    "    numbers = [int(match) for match in matches]\n",
    "    \n",
    "    # Find and return the maximum value\n",
    "    max_value = max(numbers) if numbers else None\n",
    "    return max_value\n",
    "\n",
    "# Sample text\n",
    "sample_text = 'My marks in each semester are: 947, 896, 926, 524, 734, 950, 642'\n",
    "\n",
    "# Applying the function\n",
    "max_value = extract_max_numeric_value(sample_text)\n",
    "print(max_value)  # Expected Output: 950\n"
   ]
  },
  {
   "cell_type": "code",
   "execution_count": null,
   "id": "7f75aa4d-732c-4da0-aa55-608a3e8485e1",
   "metadata": {},
   "outputs": [],
   "source": []
  },
  {
   "cell_type": "markdown",
   "id": "bcdc697c-6eb7-40c6-9c7d-01412cfb8d44",
   "metadata": {},
   "source": [
    "Question 23- Create a function in python to insert spaces between words starting with capital letters.\n",
    "Sample Text: “RegularExpressionIsAnImportantTopicInPython\"\n",
    "Expected Output: Regular Expression Is An Important Topic In Python\n"
   ]
  },
  {
   "cell_type": "code",
   "execution_count": 1,
   "id": "bedf178a-f739-4013-86ac-bd2a5d693f6e",
   "metadata": {},
   "outputs": [
    {
     "name": "stdout",
     "output_type": "stream",
     "text": [
      "Regular Expression Is An Important Topic In Python\n"
     ]
    }
   ],
   "source": [
    "import re\n",
    "\n",
    "def insert_spaces(text):\n",
    "    # Use regular expression to find capital letters not at the start of the string\n",
    "    # and insert a space before them\n",
    "    return re.sub(r'(?<!^)(?=[A-Z])', ' ', text)\n",
    "\n",
    "# Sample Text\n",
    "sample_text = \"RegularExpressionIsAnImportantTopicInPython\"\n",
    "\n",
    "# Call the function and print the result\n",
    "result = insert_spaces(sample_text)\n",
    "print(result)"
   ]
  },
  {
   "cell_type": "code",
   "execution_count": null,
   "id": "79c56892-0293-4e11-9b58-6ce748030e4c",
   "metadata": {},
   "outputs": [],
   "source": []
  },
  {
   "cell_type": "markdown",
   "id": "b90295ae-13cd-4a99-9c04-3bb32e891024",
   "metadata": {},
   "source": [
    "Question 24- Python regex to find sequences of one upper case letter followed by lower case letters"
   ]
  },
  {
   "cell_type": "code",
   "execution_count": 2,
   "id": "ed400002-1965-4f44-9713-17eec553893f",
   "metadata": {},
   "outputs": [
    {
     "name": "stdout",
     "output_type": "stream",
     "text": [
      "['Here', 'Apple', 'Cat', 'Elephant']\n"
     ]
    }
   ],
   "source": [
    "import re\n",
    "\n",
    "def find_upper_followed_by_lower(text):\n",
    "    # Define the regex pattern\n",
    "    pattern = r'\\b[A-Z][a-z]*\\b'\n",
    "    \n",
    "    # Find all matches in the input text\n",
    "    matches = re.findall(pattern, text)\n",
    "    \n",
    "    return matches\n",
    "\n",
    "# Sample text\n",
    "sample_text = \"Here are some examples: Apple, banana, Cat, dog, Elephant, frog.\"\n",
    "\n",
    "# Applying the function\n",
    "matches = find_upper_followed_by_lower(sample_text)\n",
    "print(matches)  # Output: ['Apple', 'Cat', 'Elephant']"
   ]
  },
  {
   "cell_type": "code",
   "execution_count": null,
   "id": "0cc4644f-46d9-4c30-b3ec-9acd332ad250",
   "metadata": {},
   "outputs": [],
   "source": []
  },
  {
   "cell_type": "markdown",
   "id": "ad11f8aa-ee4a-4086-8355-6c812883d782",
   "metadata": {},
   "source": [
    "Question 25- Write a Python program to remove continuous duplicate words from Sentence using Regular Expression.\n",
    "Sample Text: \"Hello hello world world\"\n",
    "Expected Output: Hello hello world\n",
    "\n"
   ]
  },
  {
   "cell_type": "code",
   "execution_count": null,
   "id": "df796ec6-a598-459c-b2e5-e6003d1cb37f",
   "metadata": {},
   "outputs": [],
   "source": [
    "import re\n",
    "\n",
    "def remove_continuous_duplicates(sentence):\n",
    "    # Define the regex pattern to match consecutive duplicate words\n",
    "    pattern = r'\\b(\\w+)\\b\\s+\\1\\b'\n",
    "    \n",
    "    # Use re.sub() to replace duplicate words with a single occurrence\n",
    "    result = re.sub(pattern, r'\\1', sentence)\n",
    "    \n",
    "    return result\n",
    "\n",
    "# Sample text\n",
    "sample_text = \"Hello hello world world\"\n",
    "\n",
    "# Applying the function\n",
    "output = remove_continuous_duplicates(sample_text)\n",
    "print(output)  # Expected Output: Hello hello world"
   ]
  },
  {
   "cell_type": "code",
   "execution_count": null,
   "id": "c3feeeaf-7bdd-4a1e-87fb-10c0d096da42",
   "metadata": {},
   "outputs": [],
   "source": []
  },
  {
   "cell_type": "markdown",
   "id": "b62927c4-87dd-489e-a1b9-f19266a82943",
   "metadata": {},
   "source": [
    "Question 26-  Write a python program using RegEx to accept string ending with alphanumeric character."
   ]
  },
  {
   "cell_type": "code",
   "execution_count": 3,
   "id": "24fec380-2ead-4bc3-b4ae-06fe2c089b61",
   "metadata": {},
   "outputs": [
    {
     "name": "stdout",
     "output_type": "stream",
     "text": [
      "True\n",
      "False\n"
     ]
    }
   ],
   "source": [
    "import re\n",
    "\n",
    "def ends_with_alphanumeric(text):\n",
    "    # Define the regex pattern\n",
    "    pattern = r'[a-zA-Z0-9]$'\n",
    "    \n",
    "    # Use re.match() to check if the pattern matches the end of the string\n",
    "    match = re.search(pattern, text)\n",
    "    \n",
    "    # Return True if the pattern matches, otherwise False\n",
    "    return bool(match)\n",
    "\n",
    "# Sample strings\n",
    "sample_text1 = \"HelloWorld123\"\n",
    "sample_text2 = \"HelloWorld!@#\"\n",
    "\n",
    "# Applying the function and printing results\n",
    "print(ends_with_alphanumeric(sample_text1)) \n",
    "print(ends_with_alphanumeric(sample_text2))  "
   ]
  },
  {
   "cell_type": "code",
   "execution_count": null,
   "id": "afdd6fd5-1e59-4687-8e87-b563d01b3ff9",
   "metadata": {},
   "outputs": [],
   "source": []
  },
  {
   "cell_type": "markdown",
   "id": "57be9ca7-089b-45ad-9f41-6b145d4448f6",
   "metadata": {},
   "source": [
    "Question 27-Write a python program using RegEx to extract the hashtags.\n",
    "Sample Text:  \"\"\"RT @kapil_kausik: #Doltiwal I mean #xyzabc is \"hurt\" by #Demonetization as the same has rendered USELESS <ed><U+00A0><U+00BD><ed><U+00B1><U+0089> \"acquired funds\" No wo\"\"\"\n",
    "Expected Output: ['#Doltiwal', '#xyzabc', '#Demonetization']"
   ]
  },
  {
   "cell_type": "code",
   "execution_count": 5,
   "id": "418ddd4e-8591-4098-af4a-7eb7217fa766",
   "metadata": {},
   "outputs": [
    {
     "name": "stdout",
     "output_type": "stream",
     "text": [
      "['#Doltiwal', '#xyzabc', '#Demonetization']\n"
     ]
    }
   ],
   "source": [
    "import re\n",
    "\n",
    "def extract_hashtags(text):\n",
    "    # Define the regex pattern to match hashtags\n",
    "    pattern = r'#\\w+'\n",
    "    \n",
    "    # Use re.findall() to find all occurrences of the pattern\n",
    "    hashtags = re.findall(pattern, text)\n",
    "    \n",
    "    return hashtags\n",
    "\n",
    "# Sample text with special characters and unicode sequences\n",
    "sample_text = \"\"\"RT @kapil_kausik: #Doltiwal I mean #xyzabc is \"hurt\" by #Demonetization as the same has rendered USELESS <ed><U+00A0><U+00BD><ed><U+00B1><U+0089> \"acquired funds\" No wo\"\"\"\n",
    "\n",
    "# Applying the function\n",
    "hashtags = extract_hashtags(sample_text)\n",
    "print(hashtags)  # Expected Output: ['#Doltiwal', '#xyzabc', '#Demonetization']\n"
   ]
  },
  {
   "cell_type": "code",
   "execution_count": null,
   "id": "52c8a9eb-fd22-4465-bb7e-f5bf3bd9612c",
   "metadata": {},
   "outputs": [],
   "source": []
  },
  {
   "cell_type": "markdown",
   "id": "89670d58-8fd7-4ab2-977b-6f9c7c9dc463",
   "metadata": {},
   "source": [
    "\n",
    "Question 28- Write a python program using RegEx to remove <U+..> like symbols\n",
    "Check the below sample text, there are strange symbols something of the sort <U+..> all over the place. You need to come up with a general Regex expression that will cover all such symbols.\n",
    "Sample Text: \"@Jags123456 Bharat band on 28??<ed><U+00A0><U+00BD><ed><U+00B8><U+0082>Those who  are protesting #demonetization  are all different party leaders\"\n",
    "Expected Output: @Jags123456 Bharat band on 28??<ed><ed>Those who  are protesting #demonetization  are all different party leaders\n",
    "\n"
   ]
  },
  {
   "cell_type": "code",
   "execution_count": 6,
   "id": "57b800f5-a5b3-41cf-bc44-32fd0caea98d",
   "metadata": {},
   "outputs": [
    {
     "name": "stdout",
     "output_type": "stream",
     "text": [
      "@Jags123456 Bharat band on 28??<ed><ed>Those who  are protesting #demonetization  are all different party leaders\n"
     ]
    }
   ],
   "source": [
    "import re\n",
    "\n",
    "def remove_unicode_symbols(text):\n",
    "    # Define the regex pattern to match <U+XXXX> symbols\n",
    "    pattern = r'<U\\+[0-9A-Fa-f]+>'\n",
    "    \n",
    "    # Use re.sub() to replace the symbols with an empty string\n",
    "    cleaned_text = re.sub(pattern, '', text)\n",
    "    \n",
    "    return cleaned_text\n",
    "\n",
    "# Sample text with <U+XXXX> symbols\n",
    "sample_text = \"@Jags123456 Bharat band on 28??<ed><U+00A0><U+00BD><ed><U+00B8><U+0082>Those who  are protesting #demonetization  are all different party leaders\"\n",
    "\n",
    "# Applying the function\n",
    "cleaned_text = remove_unicode_symbols(sample_text)\n",
    "print(cleaned_text)\n"
   ]
  },
  {
   "cell_type": "code",
   "execution_count": null,
   "id": "c78e9038-afe6-4fc8-81d1-c66cf148cdc7",
   "metadata": {},
   "outputs": [],
   "source": []
  },
  {
   "cell_type": "markdown",
   "id": "ba76e0e5-2560-4a85-9bd7-7d120edfa4b1",
   "metadata": {},
   "source": [
    "Question 29- Write a python program to extract dates from the text stored in the text file.\n",
    "Sample Text: Ron was born on 12-09-1992 and he was admitted to school 15-12-1999.\n",
    "Note- Store this sample text in the file and then extract dates.\n",
    "\n"
   ]
  },
  {
   "cell_type": "code",
   "execution_count": 12,
   "id": "591cc76c-4747-4636-a789-d9230b2f92cb",
   "metadata": {},
   "outputs": [
    {
     "name": "stdout",
     "output_type": "stream",
     "text": [
      "['12-09-1992', '15-12-1999']\n"
     ]
    }
   ],
   "source": [
    "# Creating and writing to the file\n",
    "sample_text = \"Ron was born on 12-09-1992 and he was admitted to school 15-12-1999.\"\n",
    "\n",
    "with open('sample_text.txt', 'w') as file:\n",
    "    file.write(sample_text)\n",
    "\n",
    "import re\n",
    "\n",
    "def extract_dates_from_file(filename):\n",
    "    # Define the regex pattern to match dates in dd-mm-yyyy format\n",
    "    date_pattern = r'\\b\\d{2}-\\d{2}-\\d{4}\\b'\n",
    "    \n",
    "    # Read the text from the file\n",
    "    with open(filename, 'r') as file:\n",
    "        text = file.read()\n",
    "    \n",
    "    # Find all matches of the pattern in the text\n",
    "    dates = re.findall(date_pattern, text)\n",
    "    \n",
    "    return dates\n",
    "\n",
    "# Filename of the text file\n",
    "filename = 'sample_text.txt'\n",
    "\n",
    "# Extract dates from the file\n",
    "dates = extract_dates_from_file(filename)\n",
    "print(dates) \n"
   ]
  },
  {
   "cell_type": "code",
   "execution_count": null,
   "id": "93affbd6-64dd-458e-8ef1-322ce2ea0341",
   "metadata": {},
   "outputs": [],
   "source": []
  },
  {
   "cell_type": "markdown",
   "id": "1554c7a5-29f2-460e-b21b-78900d7f412c",
   "metadata": {},
   "source": [
    "Question 30- Create a function in python to remove all words from a string of length between 2 and 4.\n",
    "The use of the re.compile() method is mandatory.\n",
    "Sample Text: \"The following example creates an ArrayList with a capacity of 50 elements. 4 elements are then added to the ArrayList and the ArrayList is trimmed accordingly.\"\n",
    "Expected Output:  following example creates ArrayList a capacity elements. 4 elements added ArrayList ArrayList trimmed accordingly.\n",
    "\n"
   ]
  },
  {
   "cell_type": "code",
   "execution_count": 13,
   "id": "0b061cbf-6d3a-482b-971e-85fcd7609768",
   "metadata": {},
   "outputs": [
    {
     "name": "stdout",
     "output_type": "stream",
     "text": [
      "following example creates ArrayList a capacity elements. 4 elements added ArrayList ArrayList trimmed accordingly.\n"
     ]
    }
   ],
   "source": [
    "import re\n",
    "\n",
    "def remove_short_words(text):\n",
    "    # Compile the regex pattern to match words of length between 2 and 4\n",
    "    pattern = re.compile(r'\\b\\w{2,4}\\b')\n",
    "    \n",
    "    # Use re.sub() to replace the matched words with an empty string\n",
    "    result = pattern.sub('', text)\n",
    "    \n",
    "    # Remove any extra spaces that might have been left behind\n",
    "    result = re.sub(r'\\s+', ' ', result).strip()\n",
    "    \n",
    "    return result\n",
    "\n",
    "# Sample text\n",
    "sample_text = \"The following example creates an ArrayList with a capacity of 50 elements. 4 elements are then added to the ArrayList and the ArrayList is trimmed accordingly.\"\n",
    "\n",
    "# Applying the function\n",
    "output = remove_short_words(sample_text)\n",
    "print(output)  \n"
   ]
  },
  {
   "cell_type": "code",
   "execution_count": null,
   "id": "20b5b7dc-df69-4c4b-b93b-9edfeee62904",
   "metadata": {},
   "outputs": [],
   "source": []
  }
 ],
 "metadata": {
  "kernelspec": {
   "display_name": "Python 3 (ipykernel)",
   "language": "python",
   "name": "python3"
  },
  "language_info": {
   "codemirror_mode": {
    "name": "ipython",
    "version": 3
   },
   "file_extension": ".py",
   "mimetype": "text/x-python",
   "name": "python",
   "nbconvert_exporter": "python",
   "pygments_lexer": "ipython3",
   "version": "3.12.4"
  }
 },
 "nbformat": 4,
 "nbformat_minor": 5
}
